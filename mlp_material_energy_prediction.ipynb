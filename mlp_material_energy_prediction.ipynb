{
 "cells": [
  {
   "cell_type": "markdown",
   "id": "eb9a1b93",
   "metadata": {},
   "source": [
    "导入相关库"
   ]
  },
  {
   "cell_type": "code",
   "execution_count": 1,
   "id": "bd2486fe",
   "metadata": {},
   "outputs": [
    {
     "name": "stderr",
     "output_type": "stream",
     "text": [
      "c:\\Soft\\Conda3\\envs\\python38\\lib\\site-packages\\tqdm\\auto.py:21: TqdmWarning: IProgress not found. Please update jupyter and ipywidgets. See https://ipywidgets.readthedocs.io/en/stable/user_install.html\n",
      "  from .autonotebook import tqdm as notebook_tqdm\n"
     ]
    }
   ],
   "source": [
    "import numpy as np\n",
    "import pandas as pd\n",
    "\n",
    "from sklearn.preprocessing import StandardScaler\n",
    "from sklearn.metrics import mean_absolute_error, mean_squared_error, r2_score\n",
    "\n",
    "import torch\n",
    "import torch.nn as nn\n",
    "import torch.nn.functional as F\n",
    "from torch.utils.data import Dataset, DataLoader, random_split\n",
    "\n",
    "from scipy.stats import norm\n",
    "\n",
    "import matplotlib.pyplot as plt\n",
    "import seaborn as sns\n",
    "%matplotlib inline"
   ]
  },
  {
   "cell_type": "markdown",
   "id": "2d24d77a",
   "metadata": {},
   "source": [
    "数据预处理"
   ]
  },
  {
   "cell_type": "code",
   "execution_count": 2,
   "id": "0ce7577e",
   "metadata": {},
   "outputs": [
    {
     "name": "stdout",
     "output_type": "stream",
     "text": [
      "(10000, 22)\n"
     ]
    },
    {
     "data": {
      "text/plain": [
       "array(['delta_e', 'stability', 'natoms', 'ntypes',\n",
       "       'element_1_atomic_radii', 'element_1_electronegativity',\n",
       "       'element_1_mass', 'element_1_covalent_radii',\n",
       "       'element_1_first_ionization_energy', 'element_2_atomic_radii',\n",
       "       'element_2_electronegativity', 'element_2_mass',\n",
       "       'element_2_covalent_radii', 'element_2_first_ionization_energy',\n",
       "       'spacegroup_id', 'volume_pa', 'sxx', 'syy', 'szz', 'sxy', 'syz',\n",
       "       'szx'], dtype=object)"
      ]
     },
     "execution_count": 2,
     "metadata": {},
     "output_type": "execute_result"
    }
   ],
   "source": [
    "# 读取数据\n",
    "df = pd.read_csv(\"data/processed_binary_compounds.csv\")\n",
    "\n",
    "# 要处理的列\n",
    "stress_cols = [\"sxy\", \"syz\", \"szx\"]\n",
    "\n",
    "# 替换值为0的项为该列的非零中位数\n",
    "for col in stress_cols:\n",
    "    non_zero_median = df.loc[df[col] != 0, col].median()\n",
    "    df[col] = df[col].replace(0, non_zero_median)\n",
    "\n",
    "print(df.shape)\n",
    "df.columns.values"
   ]
  },
  {
   "cell_type": "markdown",
   "id": "f1708163",
   "metadata": {},
   "source": [
    "特征工程"
   ]
  },
  {
   "cell_type": "code",
   "execution_count": 3,
   "id": "1f3ec35d",
   "metadata": {},
   "outputs": [
    {
     "data": {
      "text/plain": [
       "(10000, 77)"
      ]
     },
     "execution_count": 3,
     "metadata": {},
     "output_type": "execute_result"
    }
   ],
   "source": [
    "# 特征生成函数\n",
    "def expand_features(df):\n",
    "    eps = 1e-6\n",
    "\n",
    "    # 1、组成特征\n",
    "    for feat in ['atomic_radii', 'electronegativity', 'mass', 'covalent_radii', 'first_ionization_energy']:\n",
    "        col1 = f'element_1_{feat}'\n",
    "        col2 = f'element_2_{feat}'\n",
    "        df[f'{feat}_avg'] = 0.5 * (df[col1] + df[col2])\n",
    "        df[f'{feat}_diff'] = df[col1] - df[col2]\n",
    "        df[f'{feat}_ratio'] = df[col1] / (df[col2] + eps)\n",
    "        df[f'{feat}_sum'] = df[col1] + df[col2]\n",
    "        df[f'{feat}_prod'] = df[col1] * df[col2]\n",
    "        df[f'{feat}_diff_sq'] = (df[col1] - df[col2]) ** 2\n",
    "        df[f'{feat}_sum_sq'] = (df[col1] + df[col2]) ** 2\n",
    "        \n",
    "    \n",
    "    df['natoms_per_type'] = df['natoms'] / (df['ntypes'] + eps)\n",
    "\n",
    "    for feat in ['electronegativity', 'atomic_radii', 'covalent_radii', 'first_ionization_energy']:\n",
    "        df[f'mass_weighted_{feat}'] = (\n",
    "            df[f'element_1_{feat}'] * df['element_1_mass'] + df[f'element_2_{feat}'] * df['element_2_mass']\n",
    "        ) / (df['element_1_mass'] + df['element_2_mass'] + eps)\n",
    "\n",
    "    # 2、结构特征（不含空间群embedding）\n",
    "    df['volume_per_atom'] = df['volume_pa'] / (df['natoms'] + eps)\n",
    "    df['volume_per_type'] = df['volume_pa'] / (df['ntypes'] + eps)\n",
    "    df['volume_sq'] = df['volume_pa'] ** 2\n",
    "    df['volume_sqrt'] = np.sqrt(df['volume_pa'] + eps)\n",
    "    df['natoms_sqrt'] = np.sqrt(df['natoms'] + eps)\n",
    "    df['ntypes_sqrt'] = np.sqrt(df['ntypes'] + eps)\n",
    "\n",
    "    # 3、力学应力特征\n",
    "    stress_cols = ['sxx', 'syy', 'szz', 'sxy', 'syz', 'szx']\n",
    "    df['stress_mean'] = df[stress_cols].mean(axis=1)\n",
    "    df['stress_std'] = df[stress_cols].std(axis=1)\n",
    "    df['stress_max'] = df[stress_cols].max(axis=1)\n",
    "    df['stress_min'] = df[stress_cols].min(axis=1)\n",
    "    df['stress_range'] = df['stress_max'] - df['stress_min']\n",
    "    df['stress_sum'] = df[stress_cols].sum(axis=1)\n",
    "    df['stress_norm'] = np.sqrt((df[stress_cols] ** 2).sum(axis=1))\n",
    "    df['shear_stress_mean'] = df[['sxy', 'syz', 'szx']].mean(axis=1)\n",
    "    df['shear_stress_std'] = df[['sxy', 'syz', 'szx']].std(axis=1)\n",
    "    df['stress_skew'] = df[stress_cols].apply(lambda x: x.skew(), axis=1)\n",
    "\n",
    "    return df\n",
    "\n",
    "# 删除不参与输入的字段\n",
    "df_features = df.drop(columns=['delta_e'])\n",
    "\n",
    "# 生成特征\n",
    "df_full = expand_features(df_features)\n",
    "\n",
    "df_full.shape"
   ]
  },
  {
   "cell_type": "markdown",
   "id": "dfe96193",
   "metadata": {},
   "source": [
    "标准化"
   ]
  },
  {
   "cell_type": "code",
   "execution_count": 4,
   "id": "c5584ceb",
   "metadata": {},
   "outputs": [
    {
     "data": {
      "text/plain": [
       "(10000, 77)"
      ]
     },
     "execution_count": 4,
     "metadata": {},
     "output_type": "execute_result"
    }
   ],
   "source": [
    "# 数值特征标准化\n",
    "scaler = StandardScaler()\n",
    "df_fullm_scaled = scaler.fit_transform(df_full)\n",
    "df_delta_scaled = scaler.fit_transform(df[['delta_e']])\n",
    "df_fullm_scaled.shape"
   ]
  },
  {
   "cell_type": "markdown",
   "id": "2103a160",
   "metadata": {},
   "source": [
    "构建空间群Embedding模块"
   ]
  },
  {
   "cell_type": "code",
   "execution_count": 5,
   "id": "6c159dec",
   "metadata": {},
   "outputs": [
    {
     "name": "stdout",
     "output_type": "stream",
     "text": [
      "空间群类别数: 145\n"
     ]
    }
   ],
   "source": [
    "# 确定spacegroup_id的类别数\n",
    "num_spacegroups = df['spacegroup_id'].nunique()\n",
    "print(f\"空间群类别数: {num_spacegroups}\")"
   ]
  },
  {
   "cell_type": "code",
   "execution_count": 6,
   "id": "88641366",
   "metadata": {},
   "outputs": [
    {
     "name": "stdout",
     "output_type": "stream",
     "text": [
      "torch.Size([10000, 93])\n",
      "torch.Size([10000, 1])\n"
     ]
    }
   ],
   "source": [
    "# 转为Tensor\n",
    "X_tensor = torch.tensor(df_fullm_scaled, dtype=torch.float32)\n",
    "\n",
    "# 创建id → 索引映射（0开始的整数）\n",
    "unique_sg = sorted(df['spacegroup_id'].unique())  # 实际总共145类\n",
    "sgid2idx = {sg_id: idx for idx, sg_id in enumerate(unique_sg)}\n",
    "\n",
    "# 将原spacegroup_id映射成连续索引\n",
    "df['sg_idx'] = df['spacegroup_id'].map(sgid2idx)\n",
    "\n",
    "# 定义embedding层\n",
    "num_spacegroups = 145\n",
    "embedding_dim = 16\n",
    "sg_embedder = nn.Embedding(num_embeddings=num_spacegroups, embedding_dim=embedding_dim)\n",
    "\n",
    "# 取出映射后的索引，转换为LongTensor\n",
    "sg_idx_tensor = torch.tensor(df['sg_idx'].values, dtype=torch.long)\n",
    "\n",
    "# 生成空间群embedding向量\n",
    "sg_embedding_tensor = sg_embedder(sg_idx_tensor)\n",
    "\n",
    "# 拼接数值特征 + 空间群embedding\n",
    "X = torch.cat([X_tensor, sg_embedding_tensor], dim=1)\n",
    "\n",
    "# 构建回归目标（形成能）\n",
    "y = torch.tensor(df_delta_scaled, dtype=torch.float32).view(-1, 1)\n",
    "\n",
    "print(X.shape)\n",
    "print(y.shape)\n"
   ]
  },
  {
   "cell_type": "markdown",
   "id": "a8529985",
   "metadata": {},
   "source": [
    "自定义Dataset"
   ]
  },
  {
   "cell_type": "code",
   "execution_count": 7,
   "id": "183d49de",
   "metadata": {},
   "outputs": [],
   "source": [
    "class EnergyDataset(Dataset):\n",
    "    def __init__(self, X, y):\n",
    "        self.X = X\n",
    "        self.y = y\n",
    "    def __len__(self):\n",
    "        return len(self.X)\n",
    "    def __getitem__(self, idx):\n",
    "        return self.X[idx], self.y[idx]"
   ]
  },
  {
   "cell_type": "markdown",
   "id": "2d025b38",
   "metadata": {},
   "source": [
    "划分训练集和测试集"
   ]
  },
  {
   "cell_type": "code",
   "execution_count": 8,
   "id": "c1fa5c58",
   "metadata": {},
   "outputs": [],
   "source": [
    "# 创建完整数据集\n",
    "full_dataset = EnergyDataset(X, y)\n",
    "\n",
    "# 划分比例\n",
    "test_size = int(0.2 * len(full_dataset))       # 2000\n",
    "trainval_size = len(full_dataset) - test_size  # 8000\n",
    "\n",
    "# 划分训练+验证 和 测试\n",
    "trainval_dataset, test_dataset = random_split(full_dataset, [trainval_size, test_size])\n",
    "\n",
    "# 再从 trainval 中划分训练集和验证集\n",
    "val_size = int(0.2 * trainval_size)            # 1600\n",
    "train_size = trainval_size - val_size          # 6400\n",
    "train_dataset, val_dataset = random_split(trainval_dataset, [train_size, val_size])"
   ]
  },
  {
   "cell_type": "code",
   "execution_count": 9,
   "id": "7cd4357c",
   "metadata": {},
   "outputs": [],
   "source": [
    "# 准备数据加载器\n",
    "train_loader = DataLoader(train_dataset, batch_size=64, shuffle=True)\n",
    "val_loader   = DataLoader(val_dataset, batch_size=64, shuffle=False)\n",
    "test_loader  = DataLoader(test_dataset, batch_size=64, shuffle=False)"
   ]
  },
  {
   "cell_type": "markdown",
   "id": "ed212fa6",
   "metadata": {},
   "source": [
    "MLP + MC Dropout模型设计"
   ]
  },
  {
   "cell_type": "code",
   "execution_count": 10,
   "id": "5eeef3b6",
   "metadata": {},
   "outputs": [],
   "source": [
    "class MLPWithMCDropout(nn.Module):\n",
    "    def __init__(self, input_dim, dropout_rate):\n",
    "        super().__init__()\n",
    "        self.fc1 = nn.Linear(input_dim, 256)\n",
    "        self.fc2 = nn.Linear(256, 128)\n",
    "        self.fc3 = nn.Linear(128, 64)\n",
    "        self.output = nn.Linear(64, 1)\n",
    "        self.dropout_rate = dropout_rate\n",
    "\n",
    "    def forward(self, x):\n",
    "        x = F.relu(self.fc1(x))\n",
    "        x = F.dropout(x, p=self.dropout_rate, training=True)\n",
    "        x = F.relu(self.fc2(x))\n",
    "        x = F.dropout(x, p=self.dropout_rate, training=True)\n",
    "        x = F.relu(self.fc3(x))\n",
    "        x = F.dropout(x, p=self.dropout_rate, training=True)\n",
    "        return self.output(x)"
   ]
  },
  {
   "cell_type": "markdown",
   "id": "8123e0c1",
   "metadata": {},
   "source": [
    "定义MC Dropout推理函数（不确定性估计）"
   ]
  },
  {
   "cell_type": "code",
   "execution_count": 11,
   "id": "ea11e569",
   "metadata": {},
   "outputs": [],
   "source": [
    "def get_mc_predictions(model, test_loader, T, device):\n",
    "    model = model.to(device)\n",
    "    model.train()  # 激活 Dropout 层\n",
    "    all_preds = []\n",
    "\n",
    "    with torch.no_grad():  # 不需要计算梯度\n",
    "        for _ in range(T):\n",
    "            preds = []\n",
    "            for x_batch, _ in test_loader:\n",
    "                x_batch = x_batch.to(device)\n",
    "                pred = model(x_batch)\n",
    "                preds.append(pred.cpu())\n",
    "            all_preds.append(torch.cat(preds, dim=0))\n",
    "\n",
    "    preds_stack = torch.stack(all_preds, dim=0)\n",
    "    mean_pred = preds_stack.mean(dim=0).squeeze()\n",
    "    std_pred = preds_stack.std(dim=0).squeeze()\n",
    "    y_true = torch.cat([y for _, y in test_loader], dim=0).squeeze()\n",
    "\n",
    "    return y_true.numpy(), mean_pred.numpy(), std_pred.numpy()"
   ]
  },
  {
   "cell_type": "markdown",
   "id": "427d8305",
   "metadata": {},
   "source": [
    "定义训练过程（可调epoch）"
   ]
  },
  {
   "cell_type": "code",
   "execution_count": 12,
   "id": "f5f8a9f3",
   "metadata": {},
   "outputs": [],
   "source": [
    "def train_model(model, train_loader, val_loader, epochs, lr, device):\n",
    "    model = model.to(device)\n",
    "    criterion = nn.MSELoss()\n",
    "    optimizer = torch.optim.Adam(model.parameters(), lr=lr)\n",
    "\n",
    "    for epoch in range(epochs):\n",
    "        model.train()\n",
    "        total_loss = 0.0\n",
    "        for x_batch, y_batch in train_loader:\n",
    "            x_batch = x_batch.to(device)\n",
    "            y_batch = y_batch.to(device)\n",
    "\n",
    "            optimizer.zero_grad()\n",
    "            preds = model(x_batch)\n",
    "            loss = criterion(preds, y_batch)\n",
    "            loss.backward(retain_graph=True)\n",
    "            optimizer.step()\n",
    "            total_loss += loss.item() * x_batch.size(0)\n",
    "\n",
    "        val_loss = 0.0\n",
    "        model.eval()\n",
    "        with torch.no_grad():\n",
    "            for x_batch, y_batch in val_loader:\n",
    "                x_batch = x_batch.to(device)\n",
    "                y_batch = y_batch.to(device)\n",
    "                \n",
    "                preds = model(x_batch)\n",
    "                loss = criterion(preds, y_batch)\n",
    "                val_loss += loss.item() * x_batch.size(0)\n",
    "\n",
    "        avg_train_loss = total_loss / len(train_loader.dataset)\n",
    "        avg_val_loss = val_loss / len(val_loader.dataset)\n",
    "\n",
    "        print(f\"Epoch {epoch+1}/{epochs} | Train Loss: {avg_train_loss:.4f} | Val Loss: {avg_val_loss:.4f}\")\n",
    "\n",
    "    return model"
   ]
  },
  {
   "cell_type": "markdown",
   "id": "d2ff4991",
   "metadata": {},
   "source": [
    "模型训练"
   ]
  },
  {
   "cell_type": "code",
   "execution_count": 13,
   "id": "22d2e380",
   "metadata": {},
   "outputs": [
    {
     "name": "stdout",
     "output_type": "stream",
     "text": [
      "Epoch 1/120 | Train Loss: 0.9229 | Val Loss: 0.8169\n",
      "Epoch 2/120 | Train Loss: 0.6593 | Val Loss: 0.5144\n",
      "Epoch 3/120 | Train Loss: 0.3851 | Val Loss: 0.3266\n",
      "Epoch 4/120 | Train Loss: 0.2649 | Val Loss: 0.3207\n",
      "Epoch 5/120 | Train Loss: 0.2411 | Val Loss: 0.2724\n",
      "Epoch 6/120 | Train Loss: 0.2126 | Val Loss: 0.3064\n",
      "Epoch 7/120 | Train Loss: 0.2071 | Val Loss: 0.2779\n",
      "Epoch 8/120 | Train Loss: 0.1945 | Val Loss: 0.2510\n",
      "Epoch 9/120 | Train Loss: 0.1913 | Val Loss: 0.2538\n",
      "Epoch 10/120 | Train Loss: 0.1806 | Val Loss: 0.2267\n",
      "Epoch 11/120 | Train Loss: 0.1752 | Val Loss: 0.2193\n",
      "Epoch 12/120 | Train Loss: 0.1766 | Val Loss: 0.2057\n",
      "Epoch 13/120 | Train Loss: 0.1701 | Val Loss: 0.2045\n",
      "Epoch 14/120 | Train Loss: 0.1655 | Val Loss: 0.2288\n",
      "Epoch 15/120 | Train Loss: 0.1663 | Val Loss: 0.1941\n",
      "Epoch 16/120 | Train Loss: 0.1632 | Val Loss: 0.1909\n",
      "Epoch 17/120 | Train Loss: 0.1595 | Val Loss: 0.2339\n",
      "Epoch 18/120 | Train Loss: 0.1524 | Val Loss: 0.1892\n",
      "Epoch 19/120 | Train Loss: 0.1460 | Val Loss: 0.1646\n",
      "Epoch 20/120 | Train Loss: 0.1477 | Val Loss: 0.1917\n",
      "Epoch 21/120 | Train Loss: 0.1439 | Val Loss: 0.1881\n",
      "Epoch 22/120 | Train Loss: 0.1424 | Val Loss: 0.1716\n",
      "Epoch 23/120 | Train Loss: 0.1364 | Val Loss: 0.2367\n",
      "Epoch 24/120 | Train Loss: 0.1387 | Val Loss: 0.1697\n",
      "Epoch 25/120 | Train Loss: 0.1329 | Val Loss: 0.1903\n",
      "Epoch 26/120 | Train Loss: 0.1292 | Val Loss: 0.1884\n",
      "Epoch 27/120 | Train Loss: 0.1306 | Val Loss: 0.2487\n",
      "Epoch 28/120 | Train Loss: 0.1297 | Val Loss: 0.1735\n",
      "Epoch 29/120 | Train Loss: 0.1268 | Val Loss: 0.1690\n",
      "Epoch 30/120 | Train Loss: 0.1209 | Val Loss: 0.1573\n",
      "Epoch 31/120 | Train Loss: 0.1178 | Val Loss: 0.1918\n",
      "Epoch 32/120 | Train Loss: 0.1178 | Val Loss: 0.1637\n",
      "Epoch 33/120 | Train Loss: 0.1181 | Val Loss: 0.1606\n",
      "Epoch 34/120 | Train Loss: 0.1156 | Val Loss: 0.1849\n",
      "Epoch 35/120 | Train Loss: 0.1112 | Val Loss: 0.1430\n",
      "Epoch 36/120 | Train Loss: 0.1058 | Val Loss: 0.1385\n",
      "Epoch 37/120 | Train Loss: 0.1089 | Val Loss: 0.1372\n",
      "Epoch 38/120 | Train Loss: 0.1090 | Val Loss: 0.1624\n",
      "Epoch 39/120 | Train Loss: 0.1059 | Val Loss: 0.1518\n",
      "Epoch 40/120 | Train Loss: 0.1048 | Val Loss: 0.1701\n",
      "Epoch 41/120 | Train Loss: 0.1052 | Val Loss: 0.1574\n",
      "Epoch 42/120 | Train Loss: 0.1026 | Val Loss: 0.1472\n",
      "Epoch 43/120 | Train Loss: 0.1040 | Val Loss: 0.1588\n",
      "Epoch 44/120 | Train Loss: 0.0992 | Val Loss: 0.1463\n",
      "Epoch 45/120 | Train Loss: 0.0999 | Val Loss: 0.1304\n",
      "Epoch 46/120 | Train Loss: 0.0988 | Val Loss: 0.1523\n",
      "Epoch 47/120 | Train Loss: 0.1013 | Val Loss: 0.1680\n",
      "Epoch 48/120 | Train Loss: 0.0952 | Val Loss: 0.1634\n",
      "Epoch 49/120 | Train Loss: 0.0919 | Val Loss: 0.1371\n",
      "Epoch 50/120 | Train Loss: 0.0917 | Val Loss: 0.1399\n",
      "Epoch 51/120 | Train Loss: 0.0931 | Val Loss: 0.1434\n",
      "Epoch 52/120 | Train Loss: 0.0932 | Val Loss: 0.1419\n",
      "Epoch 53/120 | Train Loss: 0.0906 | Val Loss: 0.1398\n",
      "Epoch 54/120 | Train Loss: 0.0905 | Val Loss: 0.1276\n",
      "Epoch 55/120 | Train Loss: 0.0899 | Val Loss: 0.1258\n",
      "Epoch 56/120 | Train Loss: 0.0890 | Val Loss: 0.1363\n",
      "Epoch 57/120 | Train Loss: 0.0858 | Val Loss: 0.1161\n",
      "Epoch 58/120 | Train Loss: 0.0868 | Val Loss: 0.1308\n",
      "Epoch 59/120 | Train Loss: 0.0841 | Val Loss: 0.1221\n",
      "Epoch 60/120 | Train Loss: 0.0814 | Val Loss: 0.1288\n",
      "Epoch 61/120 | Train Loss: 0.0838 | Val Loss: 0.1221\n",
      "Epoch 62/120 | Train Loss: 0.0831 | Val Loss: 0.1246\n",
      "Epoch 63/120 | Train Loss: 0.0783 | Val Loss: 0.1465\n",
      "Epoch 64/120 | Train Loss: 0.0816 | Val Loss: 0.1180\n",
      "Epoch 65/120 | Train Loss: 0.0777 | Val Loss: 0.1167\n",
      "Epoch 66/120 | Train Loss: 0.0802 | Val Loss: 0.1191\n",
      "Epoch 67/120 | Train Loss: 0.0787 | Val Loss: 0.1563\n",
      "Epoch 68/120 | Train Loss: 0.0782 | Val Loss: 0.1289\n",
      "Epoch 69/120 | Train Loss: 0.0748 | Val Loss: 0.1121\n",
      "Epoch 70/120 | Train Loss: 0.0764 | Val Loss: 0.1222\n",
      "Epoch 71/120 | Train Loss: 0.0755 | Val Loss: 0.1166\n",
      "Epoch 72/120 | Train Loss: 0.0741 | Val Loss: 0.1282\n",
      "Epoch 73/120 | Train Loss: 0.0781 | Val Loss: 0.1231\n",
      "Epoch 74/120 | Train Loss: 0.0746 | Val Loss: 0.1196\n",
      "Epoch 75/120 | Train Loss: 0.0722 | Val Loss: 0.1144\n",
      "Epoch 76/120 | Train Loss: 0.0742 | Val Loss: 0.1157\n",
      "Epoch 77/120 | Train Loss: 0.0722 | Val Loss: 0.1321\n",
      "Epoch 78/120 | Train Loss: 0.0714 | Val Loss: 0.1252\n",
      "Epoch 79/120 | Train Loss: 0.0692 | Val Loss: 0.1102\n",
      "Epoch 80/120 | Train Loss: 0.0734 | Val Loss: 0.1120\n",
      "Epoch 81/120 | Train Loss: 0.0697 | Val Loss: 0.1319\n",
      "Epoch 82/120 | Train Loss: 0.0683 | Val Loss: 0.1135\n",
      "Epoch 83/120 | Train Loss: 0.0717 | Val Loss: 0.1276\n",
      "Epoch 84/120 | Train Loss: 0.0701 | Val Loss: 0.1168\n",
      "Epoch 85/120 | Train Loss: 0.0699 | Val Loss: 0.1107\n",
      "Epoch 86/120 | Train Loss: 0.0681 | Val Loss: 0.1135\n",
      "Epoch 87/120 | Train Loss: 0.0658 | Val Loss: 0.1036\n",
      "Epoch 88/120 | Train Loss: 0.0704 | Val Loss: 0.1066\n",
      "Epoch 89/120 | Train Loss: 0.0637 | Val Loss: 0.1162\n",
      "Epoch 90/120 | Train Loss: 0.0663 | Val Loss: 0.1097\n",
      "Epoch 91/120 | Train Loss: 0.0653 | Val Loss: 0.1031\n",
      "Epoch 92/120 | Train Loss: 0.0638 | Val Loss: 0.1319\n",
      "Epoch 93/120 | Train Loss: 0.0646 | Val Loss: 0.1080\n",
      "Epoch 94/120 | Train Loss: 0.0633 | Val Loss: 0.1064\n",
      "Epoch 95/120 | Train Loss: 0.0630 | Val Loss: 0.1318\n",
      "Epoch 96/120 | Train Loss: 0.0640 | Val Loss: 0.1151\n",
      "Epoch 97/120 | Train Loss: 0.0603 | Val Loss: 0.1295\n",
      "Epoch 98/120 | Train Loss: 0.0626 | Val Loss: 0.1023\n",
      "Epoch 99/120 | Train Loss: 0.0614 | Val Loss: 0.1233\n",
      "Epoch 100/120 | Train Loss: 0.0622 | Val Loss: 0.1251\n",
      "Epoch 101/120 | Train Loss: 0.0586 | Val Loss: 0.1066\n",
      "Epoch 102/120 | Train Loss: 0.0600 | Val Loss: 0.1073\n",
      "Epoch 103/120 | Train Loss: 0.0575 | Val Loss: 0.0997\n",
      "Epoch 104/120 | Train Loss: 0.0621 | Val Loss: 0.1182\n",
      "Epoch 105/120 | Train Loss: 0.0581 | Val Loss: 0.1434\n",
      "Epoch 106/120 | Train Loss: 0.0589 | Val Loss: 0.1082\n",
      "Epoch 107/120 | Train Loss: 0.0584 | Val Loss: 0.0985\n",
      "Epoch 108/120 | Train Loss: 0.0583 | Val Loss: 0.1043\n",
      "Epoch 109/120 | Train Loss: 0.0564 | Val Loss: 0.0989\n",
      "Epoch 110/120 | Train Loss: 0.0576 | Val Loss: 0.1499\n",
      "Epoch 111/120 | Train Loss: 0.0566 | Val Loss: 0.0986\n",
      "Epoch 112/120 | Train Loss: 0.0571 | Val Loss: 0.1171\n",
      "Epoch 113/120 | Train Loss: 0.0543 | Val Loss: 0.1237\n",
      "Epoch 114/120 | Train Loss: 0.0557 | Val Loss: 0.1690\n",
      "Epoch 115/120 | Train Loss: 0.0567 | Val Loss: 0.1241\n",
      "Epoch 116/120 | Train Loss: 0.0541 | Val Loss: 0.1358\n",
      "Epoch 117/120 | Train Loss: 0.0547 | Val Loss: 0.1130\n",
      "Epoch 118/120 | Train Loss: 0.0541 | Val Loss: 0.0985\n",
      "Epoch 119/120 | Train Loss: 0.0538 | Val Loss: 0.1029\n",
      "Epoch 120/120 | Train Loss: 0.0540 | Val Loss: 0.1098\n"
     ]
    }
   ],
   "source": [
    "device = torch.device('cpu')\n",
    "\n",
    "model = MLPWithMCDropout(input_dim=X.shape[1], dropout_rate=0.1)\n",
    "model = train_model(model, train_loader, val_loader, epochs=120, lr=1e-4, device=device)\n",
    "\n",
    "# 推理 + 不确定性估计\n",
    "y_true, mean_pred, std_pred = get_mc_predictions(model, test_loader, T=250, device=device)"
   ]
  },
  {
   "cell_type": "markdown",
   "id": "8f5fbc3e",
   "metadata": {},
   "source": [
    "模型性能评估"
   ]
  },
  {
   "cell_type": "code",
   "execution_count": 14,
   "id": "bee03042",
   "metadata": {},
   "outputs": [
    {
     "name": "stdout",
     "output_type": "stream",
     "text": [
      "MAE  : 0.1936\n",
      "RMSE : 0.3006\n",
      "R²   : 0.9153\n"
     ]
    }
   ],
   "source": [
    "# 计算误差指标\n",
    "mae = mean_absolute_error(y_true, mean_pred)\n",
    "rmse = np.sqrt(mean_squared_error(y_true, mean_pred))\n",
    "r2 = r2_score(y_true, mean_pred)\n",
    "\n",
    "# 输出数值结果\n",
    "print(f\"MAE  : {mae:.4f}\")\n",
    "print(f\"RMSE : {rmse:.4f}\")\n",
    "print(f\"R²   : {r2:.4f}\")"
   ]
  },
  {
   "cell_type": "markdown",
   "id": "9796802d",
   "metadata": {},
   "source": [
    "不确定性评估"
   ]
  },
  {
   "cell_type": "code",
   "execution_count": 15,
   "id": "8ba0df27",
   "metadata": {},
   "outputs": [
    {
     "name": "stdout",
     "output_type": "stream",
     "text": [
      "PICP (90%): 0.6310\n",
      "MPIW (90%): 0.4128\n",
      "Sharpness : 0.1255\n"
     ]
    }
   ],
   "source": [
    "# 设置置信度\n",
    "confidence = 0.90\n",
    "z_score = norm.ppf(0.5 + confidence / 2)\n",
    "\n",
    "# 置信区间上下界\n",
    "lower = mean_pred - z_score * std_pred\n",
    "upper = mean_pred + z_score * std_pred\n",
    "\n",
    "# PICP：真实值是否落在置信区间\n",
    "picp = np.mean((y_true >= lower) & (y_true <= upper))\n",
    "\n",
    "# MPIW：置信区间平均宽度\n",
    "mpiw = np.mean(upper - lower)\n",
    "\n",
    "# Sharpness：置信区间的集中度\n",
    "sharpness = np.mean(std_pred)  # 越小越好，说明分布更集中\n",
    "\n",
    "# 输出数值结果\n",
    "print(f\"PICP (90%): {picp:.4f}\")\n",
    "print(f\"MPIW (90%): {mpiw:.4f}\")\n",
    "print(f\"Sharpness : {sharpness:.4f}\")"
   ]
  },
  {
   "cell_type": "markdown",
   "id": "5e226878",
   "metadata": {},
   "source": [
    "可视化"
   ]
  },
  {
   "cell_type": "code",
   "execution_count": 16,
   "id": "3612e76a",
   "metadata": {},
   "outputs": [
    {
     "data": {
      "image/png": "[encoded data removed]",
      "text/plain": [
       "<Figure size 800x600 with 1 Axes>"
      ]
     },
     "metadata": {},
     "output_type": "display_data"
    }
   ],
   "source": [
    "# 可视化：真实值vs预测值+区间\n",
    "plt.figure(figsize=(8, 6))\n",
    "plt.errorbar(y_true, mean_pred, yerr=z_score * std_pred, fmt='o', ecolor='orange', alpha=0.5, label='Prediction ± 90% CI')\n",
    "plt.plot([y_true.min(), y_true.max()], [y_true.min(), y_true.max()], 'k--', label='Ideal')\n",
    "# plt.title(\"90% Confidence Interval of Predictions vs Ground Truth\")\n",
    "plt.xlabel(\"True Formation Energy (ΔE)\")\n",
    "plt.ylabel(\"Predicted Formation Energy (ΔE)\")\n",
    "plt.legend()\n",
    "plt.grid(True)\n",
    "plt.tight_layout()\n",
    "plt.show()"
   ]
  },
  {
   "cell_type": "markdown",
   "id": "6b0c25d3",
   "metadata": {},
   "source": [
    "模型结果保存"
   ]
  },
  {
   "cell_type": "code",
   "execution_count": 17,
   "id": "dbf0c091",
   "metadata": {},
   "outputs": [],
   "source": [
    "df_mlp = pd.DataFrame({\n",
    "    'true': y_true,\n",
    "    'pred': mean_pred,\n",
    "    'std': std_pred\n",
    "})\n",
    "\n",
    "df_mlp['residual'] = df_mlp['true'] - df_mlp['pred']\n",
    "\n",
    "df_mlp.to_csv('data/mlp_results.csv', index=False)"
   ]
  }
 ],
 "metadata": {
  "kernelspec": {
   "display_name": "Python 3",
   "language": "python",
   "name": "python3"
  },
  "language_info": {
   "codemirror_mode": {
    "name": "ipython",
    "version": 3
   },
   "file_extension": ".py",
   "mimetype": "text/x-python",
   "name": "python",
   "nbconvert_exporter": "python",
   "pygments_lexer": "ipython3",
   "version": "3.8.18"
  }
 },
 "nbformat": 4,
 "nbformat_minor": 5
}
